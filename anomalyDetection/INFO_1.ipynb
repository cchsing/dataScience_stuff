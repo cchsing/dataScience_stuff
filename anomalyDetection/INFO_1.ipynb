{
 "cells": [
  {
   "cell_type": "markdown",
   "metadata": {},
   "source": [
    "# Anomaly Detection in Python with Gaussian Mixture Models.\n",
    "Here we’ll learn how to implement anomaly detection with Gaussian Mixture Model with an example."
   ]
  },
  {
   "cell_type": "code",
   "execution_count": null,
   "metadata": {},
   "outputs": [],
   "source": []
  }
 ],
 "metadata": {
  "kernelspec": {
   "display_name": "Python 3.10.6 64-bit",
   "language": "python",
   "name": "python3"
  },
  "language_info": {
   "name": "python",
   "version": "3.10.6"
  },
  "orig_nbformat": 4,
  "vscode": {
   "interpreter": {
    "hash": "1a6f82ba1b6aeaef8e8c0a00ddca96c81079a464df796276caea7baa85ea39b9"
   }
  }
 },
 "nbformat": 4,
 "nbformat_minor": 2
}
